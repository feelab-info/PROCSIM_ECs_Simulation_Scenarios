{
 "cells": [
  {
   "cell_type": "code",
   "execution_count": 211,
   "id": "35b6e291",
   "metadata": {},
   "outputs": [
    {
     "name": "stdout",
     "output_type": "stream",
     "text": [
      "argon2-cffi==21.3.0\n",
      "argon2-cffi-bindings==21.2.0\n",
      "attrs==22.1.0\n",
      "backcall==0.2.0\n",
      "beautifulsoup4==4.11.1\n",
      "bitarray==2.6.0\n",
      "bleach==5.0.1\n",
      "cffi==1.15.1\n",
      "cloudpickle==2.2.0\n",
      "colorama==0.4.5\n",
      "cycler==0.11.0\n",
      "dask==2022.2.0\n",
      "debugpy==1.6.3\n",
      "decorator==5.1.1\n",
      "defusedxml==0.7.1\n",
      "entrypoints==0.4\n",
      "fastjsonschema==2.16.2\n",
      "fonttools==4.37.4\n",
      "fsspec==2022.8.2\n",
      "importlib-metadata==5.0.0\n",
      "importlib-resources==5.9.0\n",
      "ipykernel==6.16.0\n",
      "ipython==7.34.0\n",
      "ipython-genutils==0.2.0\n",
      "ipywidgets==8.0.2\n",
      "jedi==0.18.1\n",
      "Jinja2==3.1.2\n",
      "jsonschema==4.16.0\n",
      "jupyter==1.0.0\n",
      "jupyter-console==6.4.4\n",
      "jupyter-core==4.11.1\n",
      "jupyter_client==7.3.5\n",
      "jupyterlab-pygments==0.2.2\n",
      "jupyterlab-widgets==3.0.3\n",
      "kiwisolver==1.4.4\n",
      "locket==1.0.0\n",
      "lxml==4.9.1\n",
      "MarkupSafe==2.1.1\n",
      "matplotlib==3.5.3\n",
      "matplotlib-inline==0.1.6\n",
      "mistune==2.0.4\n",
      "nbclient==0.6.8\n",
      "nbconvert==7.1.0\n",
      "nbformat==5.6.1\n",
      "nest-asyncio==1.5.6\n",
      "notebook==6.4.12\n",
      "numpy==1.21.6\n",
      "packaging==21.3\n",
      "pandas==1.3.4\n",
      "pandocfilters==1.5.0\n",
      "parso==0.8.3\n",
      "partd==1.3.0\n",
      "pickleshare==0.7.5\n",
      "Pillow==9.2.0\n",
      "pkgutil_resolve_name==1.3.10\n",
      "ply==3.11\n",
      "prometheus-client==0.14.1\n",
      "prompt-toolkit==3.0.31\n",
      "psutil==5.9.2\n",
      "pycparser==2.21\n",
      "Pygments==2.13.0\n",
      "Pyomo==6.4.2\n",
      "pyparsing==3.0.9\n",
      "pyrsistent==0.18.1\n",
      "python-dateutil==2.8.2\n",
      "pytils==0.4.1\n",
      "pytz==2022.4\n",
      "pywin32==304\n",
      "pywinpty==2.0.8\n",
      "PyYAML==6.0\n",
      "pyzmq==24.0.1\n",
      "qtconsole==5.3.2\n",
      "QtPy==2.2.1\n",
      "scipy==1.7.3\n",
      "Send2Trash==1.8.0\n",
      "six==1.16.0\n",
      "soupsieve==2.3.2.post1\n",
      "terminado==0.16.0\n",
      "tinycss2==1.1.1\n",
      "tools==0.1.9\n",
      "toolz==0.12.0\n",
      "tornado==6.2\n",
      "traitlets==5.4.0\n",
      "typing_extensions==4.3.0\n",
      "wcwidth==0.2.5\n",
      "webencodings==0.5.1\n",
      "widgetsnbextension==4.0.3\n",
      "zipp==3.8.1\n"
     ]
    }
   ],
   "source": [
    "!pip freeze"
   ]
  },
  {
   "cell_type": "code",
   "execution_count": 213,
   "id": "e8ef98ae",
   "metadata": {},
   "outputs": [
    {
     "name": "stdout",
     "output_type": "stream",
     "text": [
      "Looking in indexes: https://test.pypi.org/simple/\n",
      "Collecting antgen==0.0.9\n",
      "  Downloading https://test-files.pythonhosted.org/packages/89/5f/1f5d3c0ed91114bd30644a62e9e43f86a4496dd82b0cbce1d9e0e737f9b3/antgen-0.0.9-py3-none-any.whl (7.5 MB)\n",
      "     ---------------------------------------- 7.5/7.5 MB 10.8 MB/s eta 0:00:00\n",
      "Installing collected packages: antgen\n",
      "Successfully installed antgen-0.0.9\n"
     ]
    }
   ],
   "source": [
    "!pip install -i https://test.pypi.org/simple/ antgen==0.0.9"
   ]
  },
  {
   "cell_type": "code",
   "execution_count": 219,
   "id": "904847a5",
   "metadata": {},
   "outputs": [],
   "source": [
    "import antgen"
   ]
  },
  {
   "cell_type": "code",
   "execution_count": 231,
   "id": "8b865219",
   "metadata": {},
   "outputs": [],
   "source": [
    "import subprocess"
   ]
  },
  {
   "cell_type": "code",
   "execution_count": 232,
   "id": "74c4a5aa",
   "metadata": {
    "scrolled": true
   },
   "outputs": [
    {
     "data": {
      "text/plain": [
       "'C:\\\\Users\\\\Nuno.Velosa.CORP\\\\OneDrive - Unipartner IT Services, S.A\\\\Desktop\\\\eso_project'"
      ]
     },
     "execution_count": 232,
     "metadata": {},
     "output_type": "execute_result"
    }
   ],
   "source": [
    "import os\n",
    "os.getcwd()"
   ]
  },
  {
   "cell_type": "code",
   "execution_count": 233,
   "id": "9a074b4a",
   "metadata": {},
   "outputs": [
    {
     "data": {
      "text/plain": [
       "['ActivityModel',\n",
       " 'ApplianceModel',\n",
       " 'LoadModelComponents',\n",
       " 'Tools',\n",
       " 'UserModel',\n",
       " '__doc__',\n",
       " '__file__',\n",
       " '__loader__',\n",
       " '__name__',\n",
       " '__package__',\n",
       " '__path__',\n",
       " '__spec__']"
      ]
     },
     "execution_count": 233,
     "metadata": {},
     "output_type": "execute_result"
    }
   ],
   "source": [
    "dir(antgen)"
   ]
  },
  {
   "cell_type": "code",
   "execution_count": 234,
   "id": "967eeb84",
   "metadata": {},
   "outputs": [
    {
     "name": "stdout",
     "output_type": "stream",
     "text": [
      "C:\\Users\\Nuno.Velosa.CORP\\OneDrive - Unipartner IT Services, S.A\\Desktop\\eso_project\n"
     ]
    }
   ],
   "source": [
    "import os\n",
    "print(os.getcwd())"
   ]
  },
  {
   "cell_type": "code",
   "execution_count": 235,
   "id": "2792eb5c",
   "metadata": {},
   "outputs": [],
   "source": [
    "antgen_path = str(antgen.__path__).split('[')[1].split(\"]\")[0].replace(\"'\", \"\")\n",
    "file_path = os.getcwd()"
   ]
  },
  {
   "cell_type": "code",
   "execution_count": 236,
   "id": "73cea01c",
   "metadata": {},
   "outputs": [
    {
     "data": {
      "text/plain": [
       "'C:\\\\\\\\Users\\\\\\\\Nuno.Velosa.CORP\\\\\\\\OneDrive - Unipartner IT Services, S.A\\\\\\\\Desktop\\\\\\\\eso_project\\\\\\\\venv\\\\\\\\lib\\\\\\\\site-packages\\\\\\\\antgen\\\\main.py'"
      ]
     },
     "execution_count": 236,
     "metadata": {},
     "output_type": "execute_result"
    }
   ],
   "source": [
    "os.path.join(antgen_path, \"main.py\")"
   ]
  },
  {
   "cell_type": "code",
   "execution_count": 237,
   "id": "0aad88dc",
   "metadata": {},
   "outputs": [
    {
     "name": "stdout",
     "output_type": "stream",
     "text": [
      "['#!/usr/bin/env python3\\n', '\\n', '#   ANTgen -- the AMBAL-based NILM Trace generator\\n', '#\\n', '#   Copyright (C) 2019-2020  Andreas Reinhardt <reinhardt@ieee.org>, TU Clausthal\\n', '#\\n', '#   Permission is hereby granted, free of charge, to any person obtaining a copy\\n', '#   of this software and associated documentation files (the \"Software\"), to deal\\n', '#   in the Software without restriction, including without limitation the rights\\n', '#   to use, copy, modify, merge, publish, distribute, sublicense, and/or sell\\n', '#   copies of the Software, and to permit persons to whom the Software is\\n', '#   furnished to do so, subject to the following conditions:\\n', '#\\n', '#   The above copyright notice and this permission notice shall be included in all\\n', '#   copies or substantial portions of the Software.\\n', '#\\n', '#   THE SOFTWARE IS PROVIDED \"AS IS\", WITHOUT WARRANTY OF ANY KIND, EXPRESS OR\\n', '#   IMPLIED, INCLUDING BUT NOT LIMITED TO THE WARRANTIES OF MERCHANTABILITY,\\n', '#   FITNESS FOR A PARTICULAR PURPOSE AND NONINFRINGEMENT. IN NO EVENT SHALL THE\\n', '#   AUTHORS OR COPYRIGHT HOLDERS BE LIABLE FOR ANY CLAIM, DAMAGES OR OTHER\\n', '#   LIABILITY, WHETHER IN AN ACTION OF CONTRACT, TORT OR OTHERWISE, ARISING FROM,\\n', '#   OUT OF OR IN CONNECTION WITH THE SOFTWARE OR THE USE OR OTHER DEALINGS IN THE\\n', '#   SOFTWARE.\\n', '\\n', 'import argparse\\n', 'import configparser\\n', 'import logging, logging.config\\n', 'from time import gmtime, strftime, time\\n', 'import sys\\n', 'import os.path\\n', 'import random\\n', 'import re\\n', 'from Tools import weekdays, secs_per_day\\n', 'import numpy as np\\n', 'import pandas as pd\\n', 'from datetime import datetime, timedelta\\n', '\\n', 'from ApplianceModel import ApplianceModel\\n', 'from UserModel import UserModel\\n', '\\n', '\\n', 'def init_logger(name, ttyLevel = logging.INFO):\\n', '    global logger\\n', '    logger = logging.getLogger()\\n', '    logger.setLevel(logging.DEBUG)\\n', '\\n', '    # create console handler\\n', \"    format1 = logging.Formatter('%(name)+15s [%(levelname).1s] %(message)s') #:%(lineno)4d\\n\", '    ch = logging.StreamHandler()\\n', '    ch.setLevel(ttyLevel)\\n', '    ch.setFormatter(format1)\\n', '    logger.addHandler(ch)\\n', '\\n', '    # create file handler\\n', \"    # format2 = logging.Formatter('%(asctime)s - %(levelname)-8s - %(message)s')\\n\", '    # fh = logging.FileHandler(\"{}.log\".format(name))\\n', '    # fh.setLevel(logging.DEBUG)\\n', '    # fh.setFormatter(format2)\\n', '    # logger.addHandler(fh)\\n', '# end of logger initialization\\n', '\\n', '\\n', '# read the n-th word from the local Python file to determine the current name of the tool\\n', 'def init_progname_from_code(num):\\n', '    global progname\\n', '    counter = 0\\n', '    with open(__file__, \"r\") as file:\\n', '        for line in file:\\n', '            for word in line.split():\\n', '                counter += 1\\n', '                if counter is num:\\n', '                    progname = word\\n', '                    return progname\\n', '\\n', '\\n', 'def is_file(filename):\\n', '    if not os.path.isfile(filename):\\n', '        msg = \"{0} is not a valid file\".format(filename)\\n', '        raise argparse.ArgumentTypeError(msg)\\n', '    else:\\n', '        return filename\\n', '\\n', '\\n', '# overriding the ArgumentParser class to always print usage\\n', '# (from https://stackoverflow.com/questions/4042452/)\\n', 'class AlwaysPrintUsageParser(argparse.ArgumentParser):\\n', '    def error(self, message):\\n', \"        sys.stderr.write('error: %s\\\\n' % message)\\n\", '        self.print_help()\\n', '        sys.exit(2)\\n', '\\n', '\\n', 'def terminate(message):\\n', '    logger.error(message)\\n', '    logging.shutdown()\\n', '    sys.exit(1)\\n', '\\n', '\\n', '# populate the argument list with all available scripts\\n', 'parser = AlwaysPrintUsageParser()  # argparse.ArgumentParser()\\n', 'parser.add_argument(\"-o\", \"--output\", metavar=\"DST\", help=\"directory in which to store the output files\")\\n', 'parser.add_argument(\"-w\", \"--overwrite\", action=\\'store_true\\', help=\"Overwrite output files if they exist\")\\n', 'parser.add_argument(\"-s\", \"--seed\", type=int, help=\"Initial value for the random number generator (overwritten by .conf)\")\\n', 'parser.add_argument(\"-a\", \"--alternate\", action=\\'store_true\\', help=\"Vary appliance models across operations\")\\n', 'parser.add_argument(\"-m\", \"--mapping\", metavar=\"MAPFILE\", help=\"Appliance mapping file (overwritten by .conf)\", type=is_file)\\n', 'parser.add_argument(\"-n\", \"--noise\", metavar=\"NOISECFG\", help=\"Noise configuration\", type=str)\\n', 'parser.add_argument(\"-d\", \"--days\", metavar=\"DAYS\", type=int, help=\"Number of days to generate data for (overrides .conf)\")\\n', 'parser.add_argument(\"-p\", \"--plot\", action=\\'store_true\\', help=\"Show resulting traces as plots\")\\n', 'parser.add_argument(\"-v\", \"--verbose\", action=\\'store_true\\', help=\"Output more progress messages\")\\n', 'parser.add_argument(\"configfile\", help=\"configuration file to process\", type=is_file)\\n', 'args = parser.parse_args()\\n', '\\n', '\\n', \"######################## LET'S GO ########################\\n\", '\\n', 'def main():\\n', '    init_progname_from_code(4)  # work out what this tool is called\\n', '\\n', '    # Set verbose logging if requested\\n', '    if args.verbose:\\n', '        init_logger(progname, logging.DEBUG)\\n', '    else:\\n', '        init_logger(progname)\\n', '    logger.info(\"{} started using \\'{}\\' on {}\".format(progname, os.path.basename(args.configfile),\\n', '                                                     strftime(\"%d-%m-%Y at %H:%M:%S\"), gmtime()))\\n', '\\n', '    # Validate and interpret the configuration file\\n', '    config = configparser.ConfigParser()\\n', '    try:\\n', '        config.optionxform = str  # this disallows line-end comments, but preserves capitalization\\n', '        config.read(args.configfile)\\n', \"        assert all(_ in config for _ in ['GENERAL', 'users'])\\n\", \"        assert 'name' in config['GENERAL']\\n\", '    except AssertionError:\\n', '        terminate(\"Invalid configuration file invalid. Terminating...\".format(args.configfile))\\n', '    # if we get here, the configuration file seems to be valid\\n', '\\n', '    logger.debug(\"*\" * 80)\\n', '\\n', '    # Where to store the output?\\n', \"    output_directory = os.path.join('.', 'output')\\n\", '    if args.output:\\n', '        if os.path.isfile(args.output.rstrip(os.path.sep)):\\n', '            terminate(\"Cannot create output directory \\'{}\\' because a file of the same name exists\".format(args.output))\\n', '        else:\\n', '            output_directory = args.output\\n', '    os.makedirs(output_directory, exist_ok=True)\\n', '    logger.info(\"Output files will be stored in {}\".format(output_directory))\\n', '\\n', '    # Check if we are supposed to use a particular random seed\\n', '    seed = int(round(time() * 1000))\\n', \"    if 'seed' in config['GENERAL']:\\n\", \"        seed = config.getint('GENERAL', 'seed')\\n\", '    elif args.seed is not None and int(args.seed) >= 0:\\n', '        seed = int(args.seed)\\n', '    random.seed(seed)\\n', '    logger.info(\"Initializing the random number generator with seed {}\".format(seed))\\n', '\\n', '    # Get number of users and days (for activities where needed)\\n', \"    days = config.getint('GENERAL', 'days') if 'days' in config['GENERAL'] else 1\\n\", '    if args.days is not None and int(args.days) > 0:\\n', '        days = int(args.days)\\n', '    logger.info(\"Preparing to output {} day{} of synthetic data...\".format(days,(\\'s\\' if days != 1 else \\'\\')))\\n', '\\n', '    first_day = random.randint(0,6)\\n', '    logger.info(\"Starting synthetic trace output on a {}...\".format(weekdays[first_day]))\\n', '\\n', '    logger.debug(\"*\"*80)\\n', '\\n', '    # Read all required user models to process this configuration\\n', '    users = {}\\n', \"    for u in config['users']:\\n\", '        try:\\n', \"            users[u] = UserModel(os.path.join('users', config.get('users', u)), days, first_day)\\n\", '        except ValueError as v:\\n', '            terminate(str(v))\\n', '    # user models initialized\\n', '\\n', '    logger.info(\"*\"*80)\\n', '\\n', '    # Read all required input models to process this configuration\\n', '    appliances = {}\\n', '    mapping = None\\n', '\\n', '    # Load basic appliance mapping file and overwrite individual entries if specified\\n', '    if args.mapping is not None:\\n', '        logger.info(\"Loading appliance-to-model mapping from file {}\".format(args.mapping))\\n', '        try:\\n', '            config2 = configparser.ConfigParser()\\n', '            config2.optionxform = str  # this disallows line-end comments, but preserves capitalization\\n', '            config2.read(args.mapping)\\n', \"            assert 'devices' in config2.sections()\\n\", \"            mapping = config2['devices']\\n\", '        except AssertionError:\\n', '            terminate(\"Mapping file {} invalid. Terminating...\".format(args.mapping))\\n', '\\n', \"    if 'devices' in config.sections():\\n\", '        if mapping is None:\\n', \"            mapping = config['devices']\\n\", '        else:\\n', \"            for entry in config['devices']:\\n\", '                logger.debug(\"Overriding model file for {}\".format(entry))\\n', \"                mapping[entry] = config['devices'].get(entry)\\n\", '\\n', '    if mapping is None:\\n', '        terminate(\"No appliance-to-model mapping! Add [devices] to the configuration or use the -m option. Terminating...\")\\n', '\\n', '    for appliance_key in mapping:\\n', '        try:\\n', \"            am = ApplianceModel(appliance_key, os.path.join('appliances', mapping.get(appliance_key)), days)\\n\", '        except ValueError as v:\\n', '            terminate(str(v))\\n', '        appliances[am.appliance_type] = am\\n', '        logger.debug(\"ID {}: Appliance model for {} created successfully with {} components\"\\n', '                    .format(appliance_key, am.appliance_type, len(am.comps)))\\n', '    # required appliance models loaded\\n', '\\n', '    logger.info(\"*\"*80)\\n', '\\n', '    # Validate that required appliance models for all activities are available\\n', '    logger.info(\"Binding appliance models to activities...\")\\n', '    for user in users.values():\\n', '        required_devices = user.get_required_devices()\\n', '        if len(required_devices) == 0:\\n', '            logger.warning(\"User \\'{}\\' does not operate any appliances!\".format(user.name))\\n', '        for rd in required_devices:\\n', '            logger.debug(\"Looking up a binding for appliance type \\'{}\\'...\".format(rd))\\n', '            if rd in appliances.keys():\\n', '                user.bind_appliance_model(rd, appliances[rd])\\n', '            else:\\n', '                terminate(\"Cannot bind appliance type {} - no model available!\".format(rd))\\n', '    # Done checking if all required appliance models are present and binding them to activities\\n', '\\n', '    logger.info(\"*\"*80)\\n', '\\n', '    # Synthesize users, activities, and appliances together!\\n', '    start_time = time()\\n', '    duration = days * secs_per_day\\n', '    all_events = []\\n', \"    all_powers = {'total': np.zeros([1, duration])}\\n\", '    vary_runs = True if args.alternate is not None and args.alternate is True else False\\n', '    logger.info(\"Synthesizing \\'{}\\' for {} samples\".format(config.get(\\'GENERAL\\', \\'name\\'), duration))\\n', '    for uid, user in users.items():\\n', '        logger.info(\"Synthesizing data for user ID \\'{}\\' ({})\".format(uid, user.name))\\n', '        user.synthesize(all_powers, all_events, first_day, vary_runs)\\n', '    logger.info(\"Synthesis completed in {:0.3f} seconds\".format(time() - start_time))\\n', \"    # That's it. Easy, huh?\\n\", '\\n', '    logger.info(\"*\"*80)\\n', '\\n', '    # Generate fake starting date\\n', '    #currentDate = datetime.today().strftime(\"%Y%m%d\") #Current date\\n', '    currentDate = (datetime.today() - timedelta(days=1)).strftime(\"%Y%m%d\") #Current date\\n', '    #first_day = 1 #Current date + 1 (next day)\\n', '    first_day = 0 #First date = current day\\n', '    start_day = str((int)(currentDate) + first_day)\\n', \"    date_range = pd.date_range(start=start_day, freq='S', periods=days * secs_per_day).strftime('%Y-%m-%d %H:%M:%S')\\n\", '\\n', '    # create event log, (and dump it when verbose, just in case)\\n', '    df = pd.DataFrame()\\n', '    for line in all_events:\\n', \"        entry = line.split(';')\\n\", '        if len(entry) != 4:\\n', '            logger.warning(\"Invalid log entry: {}\".format(line))\\n', '            continue\\n', '        tstp = date_range[int(entry[0])]\\n', '        tp = entry[1]\\n', '        src = entry[2]\\n', '        evt = entry[3]\\n', \"        d = pd.Series([tstp, tp, src, evt], index=['Time', 'Type', 'Source', 'Event'])\\n\", '        df = df.append(d, ignore_index=True)\\n', \"    df = df.sort_values(['Time', 'Event'], ascending=(True, False))[['Time', 'Type', 'Source', 'Event']].reset_index(drop=True)\\n\", '    for idx, row in df.iterrows():\\n', '        logger.debug(\"Event {:3d}/{:3d}: {:>8s} [{:3s}] {:>30s} {:>5s}\".format(1+idx, len(all_events), row[\\'Time\\'], row[\\'Type\\'], row[\\'Source\\'], row[\\'Event\\']))\\n', '\\n', '    for an, ap in appliances.items():\\n', '        all_powers[an] = ap.total_power\\n', '\\n', '    # Add noise if configured\\n', \"    ncfg = re.compile('[A-Z][0-9]+')\\n\", '    if args.noise is not None and ncfg.match(args.noise):\\n', '        if args.noise.startswith(\"G\"):\\n', '            amplitude = abs(int(args.noise[1:]))\\n', \"            all_powers['total'] += np.random.normal(amplitude, amplitude/10, len(all_powers['total'][0]))\\n\", \"            threshold_indices = all_powers['total'][0] < 0\\n\", \"            all_powers['total'][0][threshold_indices] = 0\\n\", '            noise_config = \"Gaussian {}W\".format(amplitude)\\n', '        elif args.noise.startswith(\"C\"):\\n', '            amplitude = abs(int(args.noise[1:]))\\n', \"            all_powers['total'] += amplitude\\n\", '            noise_config = \"Constant {}W\".format(amplitude)\\n', '        else:\\n', '            noise_config = \"invalid\"\\n', '    else:\\n', '        noise_config = \"none\"\\n', '\\n', '    logger.debug(\"*\"*80)\\n', '\\n', '    # Write CSV data to files\\n', '    logger.info(\"Writing the resulting data to CSV via DataFrame...\")\\n', '    file_counter = 0\\n', '    for k in all_powers.keys():\\n', \"        outname = os.path.join(output_directory, '{}.csv'.format(k.replace(' ','_')))\\n\", '        if os.path.isfile(outname) and args.overwrite is not True:\\n', '            logger.warning(\"Output file {} exists! To overwrite it, use the -w flag.\".format(outname))\\n', '        else:\\n', '            logger.info(\"Writing load signature of \\'{}\\' to {}\".format(k, outname))\\n', '            dfr = pd.DataFrame(all_powers[k].T, date_range)\\n', '            dfr.to_csv(outname, header=None, float_format=\\'%.1f\\', sep=\";\")\\n', '            file_counter += 1\\n', '\\n', '    # write event log\\n', \"    outname = os.path.join(output_directory, 'events.csv')\\n\", '    if os.path.isfile(outname) and args.overwrite is not True:\\n', '        logger.warning(\"Output file {} exists! To overwrite it, use the -w flag.\".format(outname))\\n', '    else:\\n', '        logger.info(\"Writing event log to {}\".format(outname))\\n', '        df.to_csv(outname, columns=[\\'Time\\',\\'Source\\',\\'Event\\'], sep=\";\", index=False)\\n', '        file_counter += 1\\n', '    logger.info(\"=> {:d} out of {:d} output files written!\".format(file_counter, 1+len(all_powers)))\\n', '\\n', '    # Plot the data\\n', '    if args.plot is True:\\n', '        try:\\n', \"            mpl_logger = logging.getLogger('matplotlib')  # silence plot-related logging\\n\", '            mpl_logger.setLevel(logging.WARNING)\\n', '            import matplotlib.pyplot as plt  # added only here to allow running ANTgen on headless machines\\n', '\\n', '            logger.info(\"Plotting aggregate data...\")\\n', \"            plt.rcParams['toolbar'] = 'None'\\n\", \"            global fig; fig = plt.figure(num=None, figsize=(16, 9), dpi=80, facecolor='w', edgecolor='k')\\n\", '            plt.subplots_adjust(bottom=0.05, top=0.96, left=0.05, right=0.99,hspace=0.5)\\n', '            plt.tight_layout()\\n', '\\n', '            ax = {}\\n', '            global lined; lined = dict()\\n', '            for i in range(4):\\n', '                ax[i] = plt.subplot(411+i)\\n', '                ax[i].set_xlim([0, days * secs_per_day])\\n', '                ax[i].set_xlabel(\"Time [hrs]\")\\n', '                ax[i].set_ylabel(\"Power [W]\")\\n', '                ax[i].title.set_size(9)\\n', '                tix = range(0, 1 + days * secs_per_day, 3600 * days)\\n', '                ax[i].set_xticks(tix)\\n', '                ax[i].set_xticklabels([int(t/3600) for t in tix])\\n', '                lines = []\\n', '\\n', '                if i == 0:\\n', '                    ax[i].set_title(\"Aggregate consumption\")\\n', \"                    p = all_powers['total']\\n\", '                    line, = ax[i].plot(p.reshape((days*secs_per_day,)), label=\"total\")\\n', '\\n', '                elif i == 1:\\n', '                    ax[i].set_title(\"Per-user consumption\")\\n', '                    for n in users.values():\\n', '                        p = all_powers[n.name]\\n', '                        p = p.reshape((days*secs_per_day,))\\n', '                        if max(p) > 0:\\n', '                            line, = ax[i].plot(p, label=n.name)\\n', '                            lines.append(line)\\n', '\\n', '                elif i == 2:\\n', '                    ax[i].set_title(\"Per-activity consumption\")\\n', '                    acits = dict()\\n', '                    for u in users.values():\\n', '                        for a in u.activities.values():\\n', '                            if a.activity_type in acits.keys():\\n', '                                logger.debug(\"NOTE: Multiple users execute activity \\'{}\\'!\".format(a.activity_type))\\n', '                            else:\\n', '                                acits[a.activity_type] = a\\n', '\\n', '                    for a in acits.values():\\n', '                        p = all_powers[a.activity_type]\\n', '                        p = p.reshape((days*secs_per_day,))\\n', '                        if max(p) > 0:\\n', '                            line, = ax[i].plot(p, label=a.activity_type)\\n', '                            lines.append(line)\\n', '\\n', '                elif i == 3:\\n', '                    ax[i].set_title(\"Per-appliance consumption\")\\n', '                    for n, a in appliances.items():\\n', '                        p = a.total_power\\n', '                        p = p.reshape((days*secs_per_day,))\\n', '                        if max(p) > 0:\\n', '                            line, = ax[i].plot(p, label=a.appliance_type)\\n', '                            lines.append(line)\\n', '\\n', '                leg = ax[i].legend(loc=2, fontsize=10-int(len(ax[i].lines)/4), ncol=1+int(len(ax[i].lines)/5))\\n', '\\n', \"                # add handles to diagram lines to 'lined' dict (for toggling)\\n\", '                for legline, origline in zip(leg.get_lines(), lines):\\n', '                    legline.set_picker(5)  # 5 pts tolerance\\n', '                    lined[legline] = origline\\n', '\\n', '            # allow toggling individual curves by clicking on the legend entry\\n', \"            cid = fig.canvas.mpl_connect('pick_event', on_legend_click)\\n\", '\\n', '            logger.info(\"Done. Close plot window to terminate...\")\\n', '            plt.show()\\n', '            # Waiting for the user to close the plot\\n', '        except ImportError as e:\\n', '            logger.warning(\"Plotting failed. Are you sure you have matplotlib installed?\")\\n', '            print(e)\\n', '    # (optional) plotting completed\\n', '\\n', '    logger.info(\"*\"*80)\\n', '\\n', '    concurrency = 0\\n', '    maximum_concurrency = 0\\n', \"    for row in df['Event']:\\n\", \"        if 'ON' in row:\\n\", '            concurrency = concurrency + 1\\n', '            if concurrency > maximum_concurrency: maximum_concurrency = concurrency\\n', \"        elif 'OFF' in row:\\n\", '            concurrency = concurrency - 1\\n', '\\n', '    logger.info(\"Trace duration (days)  : {:14d}\".format(days))\\n', '    logger.info(\"First weekday          : {:>14s}\".format(weekdays[first_day]))\\n', '    logger.info(\"# active devices       : {:14d}\".format(len(df[\\'Source\\'].value_counts())))\\n', '    logger.info(\"# appliance operations : {:14d}\".format(int(sum(df[\\'Source\\'].value_counts())/2)))\\n', '    logger.info(\"-\"*39)\\n', '    for n, _ in appliances.items():\\n', '        logger.info(\"{:>16s} #runs : {:14d}\".format(n, int(len(df[df.Source.eq(n)]) / 2)))\\n', '    logger.info(\"-\"*39)\\n', '    logger.info(\"Max. appl. concurrency : {:14d}\".format(maximum_concurrency))\\n', '    logger.info(\"Random seed            : {:14d}\".format(seed))\\n', '    logger.info(\"Added noise            : {:>14s}\".format(noise_config))\\n', '\\n', '    logger.info(\"*\"*80)\\n', '\\n', '    logger.info(\"{} completed using \\'{}\\' on {}\".format(progname, os.path.basename(args.configfile), strftime(\"%d-%m-%Y at %H:%M:%S\"), gmtime()))\\n', '    logging.shutdown()\\n', '\\n', '\\n', '# visibility toggling, adapted from https://matplotlib.org/3.1.0/gallery/event_handling/legend_picking.html\\n', 'def on_legend_click(event):\\n', '    global lined\\n', '    global fig\\n', '    legline = event.artist\\n', '    origline = lined[legline]\\n', '    vis = not origline.get_visible()\\n', '    origline.set_visible(vis)\\n', '    legline.set_alpha(1.0) if vis else legline.set_alpha(0.2)\\n', '    fig.canvas.draw()\\n', '\\n', '######################## DONE ########################\\n', '\\n', '\\n', 'if __name__ == \"__main__\":\\n', '    main()\\n']\n"
     ]
    }
   ],
   "source": [
    "with open(os.path.join(antgen_path, \"main.py\")) as f:\n",
    "    lines = f.readlines()\n",
    "    print(lines)"
   ]
  },
  {
   "cell_type": "code",
   "execution_count": 238,
   "id": "f2f8a45d",
   "metadata": {
    "scrolled": true
   },
   "outputs": [
    {
     "name": "stdout",
     "output_type": "stream",
     "text": [
      "['[devices]\\n', '\\n', '# housekeeping\\n', '#VACUUMCLEANER = /Users/nunovelosa/Desktop/antgen/appliances/VACUUMCLEANER/device_B7E2F8\\n', '#WASHINGMACHINE = /Users/nunovelosa/Desktop/antgen/appliances/WASHINGMACHINE/_B82E27\\n', '#IRON = /Users/nunovelosa/Desktop/antgen/appliances/IRON/dev_D337C2\\n', '#DRYER = /Users/nunovelosa/Desktop/antgen/appliances/DRYER/ECO-H1\\n', 'VACUUMCLEANER = C:/Users/Nuno.Velosa/Desktop/antgen/appliances/VACUUMCLEANER/device_B7E2F8\\n', 'WASHINGMACHINE = C:/Users/Nuno.Velosa/Desktop/antgen/appliances/WASHINGMACHINE/_B82E27\\n', 'IRON = C:/Users/Nuno.Velosa/Desktop/antgen/appliances/IRON/dev_D337C2\\n', 'DRYER = C:/Users/Nuno.Velosa/Desktop/antgen/appliances/DRYER/ECO-H1\\n', '\\n', '# kitchen\\n', '#COOKINGSTOVE = /Users/nunovelosa/Desktop/antgen/appliances/COOKINGSTOVE/dev_D33097\\n', '#MICROWAVE = /Users/nunovelosa/Desktop/antgen/appliances/MICROWAVE/dev_98A0D3\\n', '#REFRIGERATOR = /Users/nunovelosa/Desktop/antgen/appliances/REFRIGERATOR/dev20111228\\n', '#FREEZER = /Users/nunovelosa/Desktop/antgen/appliances/FREEZER/ECO-H1\\n', '#DISHWASHER = /Users/nunovelosa/Desktop/antgen/appliances/DISHWASHER/dev_995BAC\\n', '#KETTLE = /Users/nunovelosa/Desktop/antgen/appliances/KETTLE/ECO-H1\\n', '#TOASTER = /Users/nunovelosa/Desktop/antgen/appliances/TOASTER/dev_98ABD2\\n', '#BREADCUTTER = /Users/nunovelosa/Desktop/antgen/appliances/BREADCUTTER/dev_B7DF9D\\n', '#COFFEEMAKER = /Users/nunovelosa/Desktop/antgen/appliances/COFFEEMAKER/ECO-H1\\n', 'COOKINGSTOVE = C:/Users/Nuno.Velosa/Desktop/antgen/appliances/COOKINGSTOVE/dev_D33097\\n', 'MICROWAVE = C:/Users/Nuno.Velosa/Desktop/antgen/appliances/MICROWAVE/dev_98A0D3\\n', 'REFRIGERATOR = C:/Users/Nuno.Velosa/Desktop/antgen/appliances/REFRIGERATOR/dev20111228\\n', 'FREEZER = C:/Users/Nuno.Velosa/Desktop/antgen/appliances/FREEZER/ECO-H1\\n', 'DISHWASHER = C:/Users/Nuno.Velosa/Desktop/antgen/appliances/DISHWASHER/dev_995BAC\\n', 'KETTLE = C:/Users/Nuno.Velosa/Desktop/antgen/appliances/KETTLE/ECO-H1\\n', 'TOASTER = C:/Users/Nuno.Velosa/Desktop/antgen/appliances/TOASTER/dev_98ABD2\\n', 'BREADCUTTER = C:/Users/Nuno.Velosa/Desktop/antgen/appliances/BREADCUTTER/dev_B7DF9D\\n', 'COFFEEMAKER = C:/Users/Nuno.Velosa/Desktop/antgen/appliances/COFFEEMAKER/ECO-H1\\n', '\\n', '# living room\\n', '#TV = /Users/nunovelosa/Desktop/antgen/appliances/TV/dev_B80E51\\n', '#CDPLAYER = /Users/nunovelosa/Desktop/antgen/appliances/CDPLAYER/dev_C3E6D1\\n', '#PC = /Users/nunovelosa/Desktop/antgen/appliances/PC/ECO-H1\\n', '#AMPLIFIER = /Users/nunovelosa/Desktop/antgen/appliances/AMPLIFIER/dev_AF6490\\n', '#PRINTER = /Users/nunovelosa/Desktop/antgen/appliances/PRINTER/dev_11F01E\\n', 'TV = C:/Users/Nuno.Velosa/Desktop/antgen/appliances/TV/dev_B80E51\\n', 'CDPLAYER = C:/Users/Nuno.Velosa/Desktop/antgen/appliances/CDPLAYER/dev_C3E6D1\\n', 'PC = C:/Users/Nuno.Velosa/Desktop/antgen/appliances/PC/ECO-H1\\n', 'AMPLIFIER = C:/Users/Nuno.Velosa/Desktop/antgen/appliances/AMPLIFIER/dev_AF6490\\n', 'PRINTER = C:/Users/Nuno.Velosa/Desktop/antgen/appliances/PRINTER/dev_11F01E\\n', '\\n']\n"
     ]
    }
   ],
   "source": [
    "with open(os.path.join(file_path, \"mapping.conf\")) as f:\n",
    "    lines = f.readlines()\n",
    "    print(lines)"
   ]
  },
  {
   "cell_type": "code",
   "execution_count": 239,
   "id": "ffbc82b8",
   "metadata": {},
   "outputs": [
    {
     "name": "stdout",
     "output_type": "stream",
     "text": [
      "C:\\\\Users\\\\Nuno.Velosa.CORP\\\\OneDrive - Unipartner IT Services, S.A\\\\Desktop\\\\eso_project\\\\venv\\\\lib\\\\site-packages\\\\antgen\\main.py\n",
      "C:\\Users\\Nuno.Velosa.CORP\\OneDrive - Unipartner IT Services, S.A\\Desktop\\eso_project\\mapping.conf\n",
      "C:\\Users\\Nuno.Velosa.CORP\\OneDrive - Unipartner IT Services, S.A\\Desktop\\eso_project\\house17.conf\n",
      "python3 \"C:\\\\Users\\\\Nuno.Velosa.CORP\\\\OneDrive - Unipartner IT Services, S.A\\\\Desktop\\\\eso_project\\\\venv\\\\lib\\\\site-packages\\\\antgen\\main.py\" -n 100 -d 1  -o \"output/house\" -w -m \"C:\\Users\\Nuno.Velosa.CORP\\OneDrive - Unipartner IT Services, S.A\\Desktop\\eso_project\\mapping.conf\" -p \"C:\\Users\\Nuno.Velosa.CORP\\OneDrive - Unipartner IT Services, S.A\\Desktop\\eso_project\\house17.conf\"\n"
     ]
    },
    {
     "data": {
      "text/plain": [
       "0"
      ]
     },
     "execution_count": 239,
     "metadata": {},
     "output_type": "execute_result"
    }
   ],
   "source": [
    "main_path = os.path.join(antgen_path, \"main.py\")\n",
    "print(main_path)\n",
    "mapping_path = os.path.join(file_path, \"mapping.conf\")\n",
    "print(mapping_path)\n",
    "conf_path = os.path.join(file_path, \"house17.conf\")\n",
    "print(conf_path)\n",
    "output_path = \"output/house\"\n",
    "print('python3 \"' + main_path + '\" -n ' + '100' + ' -d ' + '1 ' + ' -o \"' + output_path + '\" -w ' + '-m \"' + mapping_path + '\" -p \"' + conf_path + '\"')\n",
    "subprocess.call([\"python3\", main_path, \"-n\", \"100\", \"-d\", \"1\", \"-o\", output_path, \"-w\", \"-m\", mapping_path, \"-p\", conf_path])"
   ]
  },
  {
   "cell_type": "code",
   "execution_count": 200,
   "id": "9946324a",
   "metadata": {},
   "outputs": [
    {
     "data": {
      "text/plain": [
       "'C:\\\\\\\\Users\\\\\\\\Nuno.Velosa.CORP\\\\\\\\OneDrive - Unipartner IT Services, S.A\\\\\\\\Desktop\\\\\\\\eso_project\\\\\\\\venv\\\\\\\\lib\\\\\\\\site-packages\\\\\\\\antgen\\\\main.py'"
      ]
     },
     "execution_count": 200,
     "metadata": {},
     "output_type": "execute_result"
    }
   ],
   "source": [
    "main_path"
   ]
  },
  {
   "cell_type": "code",
   "execution_count": 201,
   "id": "8ce14809",
   "metadata": {},
   "outputs": [
    {
     "data": {
      "text/plain": [
       "'C:\\\\Users\\\\Nuno.Velosa.CORP\\\\OneDrive - Unipartner IT Services, S.A\\\\Desktop\\\\eso_project\\\\mapping.conf'"
      ]
     },
     "execution_count": 201,
     "metadata": {},
     "output_type": "execute_result"
    }
   ],
   "source": [
    "mapping_path"
   ]
  },
  {
   "cell_type": "code",
   "execution_count": 202,
   "id": "c6c1b9aa",
   "metadata": {},
   "outputs": [
    {
     "name": "stdout",
     "output_type": "stream",
     "text": [
      "Requirement already satisfied: bitarray in c:\\users\\nuno.velosa.corp\\onedrive - unipartner it services, s.a\\desktop\\eso_project\\venv\\lib\\site-packages (2.6.0)\n"
     ]
    }
   ],
   "source": [
    "!pip install bitarray"
   ]
  },
  {
   "cell_type": "code",
   "execution_count": 203,
   "id": "78e9234e",
   "metadata": {},
   "outputs": [
    {
     "name": "stdout",
     "output_type": "stream",
     "text": [
      "Requirement already satisfied: pandas==1.3.4 in c:\\users\\nuno.velosa.corp\\onedrive - unipartner it services, s.a\\desktop\\eso_project\\venv\\lib\\site-packages (1.3.4)\n",
      "Requirement already satisfied: numpy>=1.17.3 in c:\\users\\nuno.velosa.corp\\onedrive - unipartner it services, s.a\\desktop\\eso_project\\venv\\lib\\site-packages (from pandas==1.3.4) (1.21.6)\n",
      "Requirement already satisfied: pytz>=2017.3 in c:\\users\\nuno.velosa.corp\\onedrive - unipartner it services, s.a\\desktop\\eso_project\\venv\\lib\\site-packages (from pandas==1.3.4) (2022.4)\n",
      "Requirement already satisfied: python-dateutil>=2.7.3 in c:\\users\\nuno.velosa.corp\\onedrive - unipartner it services, s.a\\desktop\\eso_project\\venv\\lib\\site-packages (from pandas==1.3.4) (2.8.2)\n",
      "Requirement already satisfied: six>=1.5 in c:\\users\\nuno.velosa.corp\\onedrive - unipartner it services, s.a\\desktop\\eso_project\\venv\\lib\\site-packages (from python-dateutil>=2.7.3->pandas==1.3.4) (1.16.0)\n"
     ]
    }
   ],
   "source": [
    "!pip install pandas==1.3.4"
   ]
  },
  {
   "cell_type": "code",
   "execution_count": null,
   "id": "487390a4",
   "metadata": {},
   "outputs": [],
   "source": []
  }
 ],
 "metadata": {
  "kernelspec": {
   "display_name": "Python 3 (ipykernel)",
   "language": "python",
   "name": "python3"
  },
  "language_info": {
   "codemirror_mode": {
    "name": "ipython",
    "version": 3
   },
   "file_extension": ".py",
   "mimetype": "text/x-python",
   "name": "python",
   "nbconvert_exporter": "python",
   "pygments_lexer": "ipython3",
   "version": "3.7.9"
  }
 },
 "nbformat": 4,
 "nbformat_minor": 5
}
